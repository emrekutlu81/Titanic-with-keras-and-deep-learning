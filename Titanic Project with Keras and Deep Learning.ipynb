{
 "cells": [
  {
   "cell_type": "code",
   "execution_count": 1,
   "id": "97a656bf",
   "metadata": {},
   "outputs": [],
   "source": [
    "import pandas as pd\n",
    "import matplotlib.pyplot as plt\n",
    "%matplotlib inline\n",
    "import seaborn as sns\n",
    "import warnings\n",
    "warnings.filterwarnings(\"ignore\")\n",
    "\n",
    "from sklearn.metrics import accuracy_score,precision_score,recall_score,f1_score\n",
    "from sklearn.metrics import confusion_matrix, classification_report\n",
    "from sklearn.ensemble import GradientBoostingRegressor\n",
    "gbc = GradientBoostingRegressor()\n",
    "from sklearn.ensemble import RandomForestClassifier\n",
    "r = RandomForestClassifier()\n",
    "from sklearn.tree import DecisionTreeClassifier\n",
    "d = DecisionTreeClassifier()\n",
    "from sklearn.linear_model import LogisticRegression\n",
    "log = LogisticRegression()\n",
    "from sklearn.neighbors import KNeighborsClassifier\n",
    "k = KNeighborsClassifier()\n",
    "from sklearn.naive_bayes import GaussianNB\n",
    "from sklearn.naive_bayes import BernoulliNB\n",
    "g = GaussianNB()\n",
    "b = BernoulliNB()\n",
    "from xgboost import XGBClassifier\n",
    "xgbc = XGBClassifier()\n",
    "from sklearn.model_selection import train_test_split\n",
    "\n",
    "# creating a neural network model\n",
    "from tensorflow.keras.models import Sequential\n",
    "from tensorflow.keras.layers import Dense, Activation\n",
    "from tensorflow.keras.optimizers import Adam"
   ]
  },
  {
   "cell_type": "code",
   "execution_count": null,
   "id": "90b81289",
   "metadata": {},
   "outputs": [],
   "source": []
  },
  {
   "cell_type": "code",
   "execution_count": null,
   "id": "399bea86",
   "metadata": {},
   "outputs": [],
   "source": []
  },
  {
   "cell_type": "code",
   "execution_count": 2,
   "id": "3fab4fa5",
   "metadata": {},
   "outputs": [],
   "source": [
    "df1 = pd.read_csv(\"train.csv\")"
   ]
  },
  {
   "cell_type": "code",
   "execution_count": 3,
   "id": "c37ff57a",
   "metadata": {},
   "outputs": [
    {
     "data": {
      "text/plain": [
       "(891, 12)"
      ]
     },
     "execution_count": 3,
     "metadata": {},
     "output_type": "execute_result"
    }
   ],
   "source": [
    "df1.shape"
   ]
  },
  {
   "cell_type": "code",
   "execution_count": 4,
   "id": "2e7447a3",
   "metadata": {},
   "outputs": [],
   "source": [
    "df2 = pd.read_csv(\"test.csv\")"
   ]
  },
  {
   "cell_type": "code",
   "execution_count": 5,
   "id": "c9aab0dd",
   "metadata": {},
   "outputs": [
    {
     "data": {
      "text/plain": [
       "(418, 11)"
      ]
     },
     "execution_count": 5,
     "metadata": {},
     "output_type": "execute_result"
    }
   ],
   "source": [
    "df2.shape"
   ]
  },
  {
   "cell_type": "code",
   "execution_count": 6,
   "id": "c943992c",
   "metadata": {},
   "outputs": [],
   "source": [
    "df = df1.append(df2) #iki dataframe i birleştirme"
   ]
  },
  {
   "cell_type": "code",
   "execution_count": 7,
   "id": "ee9b6b57",
   "metadata": {},
   "outputs": [
    {
     "data": {
      "text/plain": [
       "(1309, 12)"
      ]
     },
     "execution_count": 7,
     "metadata": {},
     "output_type": "execute_result"
    }
   ],
   "source": [
    "df.shape"
   ]
  },
  {
   "cell_type": "markdown",
   "id": "1a4cba8e",
   "metadata": {},
   "source": [
    "### EDA"
   ]
  },
  {
   "cell_type": "code",
   "execution_count": 8,
   "id": "9db4c799",
   "metadata": {},
   "outputs": [
    {
     "data": {
      "text/html": [
       "<div>\n",
       "<style scoped>\n",
       "    .dataframe tbody tr th:only-of-type {\n",
       "        vertical-align: middle;\n",
       "    }\n",
       "\n",
       "    .dataframe tbody tr th {\n",
       "        vertical-align: top;\n",
       "    }\n",
       "\n",
       "    .dataframe thead th {\n",
       "        text-align: right;\n",
       "    }\n",
       "</style>\n",
       "<table border=\"1\" class=\"dataframe\">\n",
       "  <thead>\n",
       "    <tr style=\"text-align: right;\">\n",
       "      <th></th>\n",
       "      <th>PassengerId</th>\n",
       "      <th>Survived</th>\n",
       "      <th>Pclass</th>\n",
       "      <th>Name</th>\n",
       "      <th>Sex</th>\n",
       "      <th>Age</th>\n",
       "      <th>SibSp</th>\n",
       "      <th>Parch</th>\n",
       "      <th>Ticket</th>\n",
       "      <th>Fare</th>\n",
       "      <th>Cabin</th>\n",
       "      <th>Embarked</th>\n",
       "    </tr>\n",
       "  </thead>\n",
       "  <tbody>\n",
       "    <tr>\n",
       "      <th>0</th>\n",
       "      <td>1</td>\n",
       "      <td>0.0</td>\n",
       "      <td>3</td>\n",
       "      <td>Braund, Mr. Owen Harris</td>\n",
       "      <td>male</td>\n",
       "      <td>22.0</td>\n",
       "      <td>1</td>\n",
       "      <td>0</td>\n",
       "      <td>A/5 21171</td>\n",
       "      <td>7.2500</td>\n",
       "      <td>NaN</td>\n",
       "      <td>S</td>\n",
       "    </tr>\n",
       "    <tr>\n",
       "      <th>1</th>\n",
       "      <td>2</td>\n",
       "      <td>1.0</td>\n",
       "      <td>1</td>\n",
       "      <td>Cumings, Mrs. John Bradley (Florence Briggs Th...</td>\n",
       "      <td>female</td>\n",
       "      <td>38.0</td>\n",
       "      <td>1</td>\n",
       "      <td>0</td>\n",
       "      <td>PC 17599</td>\n",
       "      <td>71.2833</td>\n",
       "      <td>C85</td>\n",
       "      <td>C</td>\n",
       "    </tr>\n",
       "    <tr>\n",
       "      <th>2</th>\n",
       "      <td>3</td>\n",
       "      <td>1.0</td>\n",
       "      <td>3</td>\n",
       "      <td>Heikkinen, Miss. Laina</td>\n",
       "      <td>female</td>\n",
       "      <td>26.0</td>\n",
       "      <td>0</td>\n",
       "      <td>0</td>\n",
       "      <td>STON/O2. 3101282</td>\n",
       "      <td>7.9250</td>\n",
       "      <td>NaN</td>\n",
       "      <td>S</td>\n",
       "    </tr>\n",
       "    <tr>\n",
       "      <th>3</th>\n",
       "      <td>4</td>\n",
       "      <td>1.0</td>\n",
       "      <td>1</td>\n",
       "      <td>Futrelle, Mrs. Jacques Heath (Lily May Peel)</td>\n",
       "      <td>female</td>\n",
       "      <td>35.0</td>\n",
       "      <td>1</td>\n",
       "      <td>0</td>\n",
       "      <td>113803</td>\n",
       "      <td>53.1000</td>\n",
       "      <td>C123</td>\n",
       "      <td>S</td>\n",
       "    </tr>\n",
       "    <tr>\n",
       "      <th>4</th>\n",
       "      <td>5</td>\n",
       "      <td>0.0</td>\n",
       "      <td>3</td>\n",
       "      <td>Allen, Mr. William Henry</td>\n",
       "      <td>male</td>\n",
       "      <td>35.0</td>\n",
       "      <td>0</td>\n",
       "      <td>0</td>\n",
       "      <td>373450</td>\n",
       "      <td>8.0500</td>\n",
       "      <td>NaN</td>\n",
       "      <td>S</td>\n",
       "    </tr>\n",
       "  </tbody>\n",
       "</table>\n",
       "</div>"
      ],
      "text/plain": [
       "   PassengerId  Survived  Pclass  \\\n",
       "0            1       0.0       3   \n",
       "1            2       1.0       1   \n",
       "2            3       1.0       3   \n",
       "3            4       1.0       1   \n",
       "4            5       0.0       3   \n",
       "\n",
       "                                                Name     Sex   Age  SibSp  \\\n",
       "0                            Braund, Mr. Owen Harris    male  22.0      1   \n",
       "1  Cumings, Mrs. John Bradley (Florence Briggs Th...  female  38.0      1   \n",
       "2                             Heikkinen, Miss. Laina  female  26.0      0   \n",
       "3       Futrelle, Mrs. Jacques Heath (Lily May Peel)  female  35.0      1   \n",
       "4                           Allen, Mr. William Henry    male  35.0      0   \n",
       "\n",
       "   Parch            Ticket     Fare Cabin Embarked  \n",
       "0      0         A/5 21171   7.2500   NaN        S  \n",
       "1      0          PC 17599  71.2833   C85        C  \n",
       "2      0  STON/O2. 3101282   7.9250   NaN        S  \n",
       "3      0            113803  53.1000  C123        S  \n",
       "4      0            373450   8.0500   NaN        S  "
      ]
     },
     "execution_count": 8,
     "metadata": {},
     "output_type": "execute_result"
    }
   ],
   "source": [
    "df.head()"
   ]
  },
  {
   "cell_type": "code",
   "execution_count": 9,
   "id": "b110fbe4",
   "metadata": {},
   "outputs": [
    {
     "data": {
      "text/html": [
       "<div>\n",
       "<style scoped>\n",
       "    .dataframe tbody tr th:only-of-type {\n",
       "        vertical-align: middle;\n",
       "    }\n",
       "\n",
       "    .dataframe tbody tr th {\n",
       "        vertical-align: top;\n",
       "    }\n",
       "\n",
       "    .dataframe thead th {\n",
       "        text-align: right;\n",
       "    }\n",
       "</style>\n",
       "<table border=\"1\" class=\"dataframe\">\n",
       "  <thead>\n",
       "    <tr style=\"text-align: right;\">\n",
       "      <th></th>\n",
       "      <th>PassengerId</th>\n",
       "      <th>Survived</th>\n",
       "      <th>Pclass</th>\n",
       "      <th>Name</th>\n",
       "      <th>Sex</th>\n",
       "      <th>Age</th>\n",
       "      <th>SibSp</th>\n",
       "      <th>Parch</th>\n",
       "      <th>Ticket</th>\n",
       "      <th>Fare</th>\n",
       "      <th>Cabin</th>\n",
       "      <th>Embarked</th>\n",
       "    </tr>\n",
       "  </thead>\n",
       "  <tbody>\n",
       "    <tr>\n",
       "      <th>413</th>\n",
       "      <td>1305</td>\n",
       "      <td>NaN</td>\n",
       "      <td>3</td>\n",
       "      <td>Spector, Mr. Woolf</td>\n",
       "      <td>male</td>\n",
       "      <td>NaN</td>\n",
       "      <td>0</td>\n",
       "      <td>0</td>\n",
       "      <td>A.5. 3236</td>\n",
       "      <td>8.0500</td>\n",
       "      <td>NaN</td>\n",
       "      <td>S</td>\n",
       "    </tr>\n",
       "    <tr>\n",
       "      <th>414</th>\n",
       "      <td>1306</td>\n",
       "      <td>NaN</td>\n",
       "      <td>1</td>\n",
       "      <td>Oliva y Ocana, Dona. Fermina</td>\n",
       "      <td>female</td>\n",
       "      <td>39.0</td>\n",
       "      <td>0</td>\n",
       "      <td>0</td>\n",
       "      <td>PC 17758</td>\n",
       "      <td>108.9000</td>\n",
       "      <td>C105</td>\n",
       "      <td>C</td>\n",
       "    </tr>\n",
       "    <tr>\n",
       "      <th>415</th>\n",
       "      <td>1307</td>\n",
       "      <td>NaN</td>\n",
       "      <td>3</td>\n",
       "      <td>Saether, Mr. Simon Sivertsen</td>\n",
       "      <td>male</td>\n",
       "      <td>38.5</td>\n",
       "      <td>0</td>\n",
       "      <td>0</td>\n",
       "      <td>SOTON/O.Q. 3101262</td>\n",
       "      <td>7.2500</td>\n",
       "      <td>NaN</td>\n",
       "      <td>S</td>\n",
       "    </tr>\n",
       "    <tr>\n",
       "      <th>416</th>\n",
       "      <td>1308</td>\n",
       "      <td>NaN</td>\n",
       "      <td>3</td>\n",
       "      <td>Ware, Mr. Frederick</td>\n",
       "      <td>male</td>\n",
       "      <td>NaN</td>\n",
       "      <td>0</td>\n",
       "      <td>0</td>\n",
       "      <td>359309</td>\n",
       "      <td>8.0500</td>\n",
       "      <td>NaN</td>\n",
       "      <td>S</td>\n",
       "    </tr>\n",
       "    <tr>\n",
       "      <th>417</th>\n",
       "      <td>1309</td>\n",
       "      <td>NaN</td>\n",
       "      <td>3</td>\n",
       "      <td>Peter, Master. Michael J</td>\n",
       "      <td>male</td>\n",
       "      <td>NaN</td>\n",
       "      <td>1</td>\n",
       "      <td>1</td>\n",
       "      <td>2668</td>\n",
       "      <td>22.3583</td>\n",
       "      <td>NaN</td>\n",
       "      <td>C</td>\n",
       "    </tr>\n",
       "  </tbody>\n",
       "</table>\n",
       "</div>"
      ],
      "text/plain": [
       "     PassengerId  Survived  Pclass                          Name     Sex  \\\n",
       "413         1305       NaN       3            Spector, Mr. Woolf    male   \n",
       "414         1306       NaN       1  Oliva y Ocana, Dona. Fermina  female   \n",
       "415         1307       NaN       3  Saether, Mr. Simon Sivertsen    male   \n",
       "416         1308       NaN       3           Ware, Mr. Frederick    male   \n",
       "417         1309       NaN       3      Peter, Master. Michael J    male   \n",
       "\n",
       "      Age  SibSp  Parch              Ticket      Fare Cabin Embarked  \n",
       "413   NaN      0      0           A.5. 3236    8.0500   NaN        S  \n",
       "414  39.0      0      0            PC 17758  108.9000  C105        C  \n",
       "415  38.5      0      0  SOTON/O.Q. 3101262    7.2500   NaN        S  \n",
       "416   NaN      0      0              359309    8.0500   NaN        S  \n",
       "417   NaN      1      1                2668   22.3583   NaN        C  "
      ]
     },
     "execution_count": 9,
     "metadata": {},
     "output_type": "execute_result"
    }
   ],
   "source": [
    "df.tail()"
   ]
  },
  {
   "cell_type": "code",
   "execution_count": 10,
   "id": "4a7b1e59",
   "metadata": {},
   "outputs": [
    {
     "data": {
      "text/html": [
       "<div>\n",
       "<style scoped>\n",
       "    .dataframe tbody tr th:only-of-type {\n",
       "        vertical-align: middle;\n",
       "    }\n",
       "\n",
       "    .dataframe tbody tr th {\n",
       "        vertical-align: top;\n",
       "    }\n",
       "\n",
       "    .dataframe thead th {\n",
       "        text-align: right;\n",
       "    }\n",
       "</style>\n",
       "<table border=\"1\" class=\"dataframe\">\n",
       "  <thead>\n",
       "    <tr style=\"text-align: right;\">\n",
       "      <th></th>\n",
       "      <th>PassengerId</th>\n",
       "      <th>Survived</th>\n",
       "      <th>Pclass</th>\n",
       "      <th>Name</th>\n",
       "      <th>Sex</th>\n",
       "      <th>Age</th>\n",
       "      <th>SibSp</th>\n",
       "      <th>Parch</th>\n",
       "      <th>Ticket</th>\n",
       "      <th>Fare</th>\n",
       "      <th>Cabin</th>\n",
       "      <th>Embarked</th>\n",
       "    </tr>\n",
       "  </thead>\n",
       "  <tbody>\n",
       "    <tr>\n",
       "      <th>315</th>\n",
       "      <td>1207</td>\n",
       "      <td>NaN</td>\n",
       "      <td>3</td>\n",
       "      <td>Hagardon, Miss. Kate</td>\n",
       "      <td>female</td>\n",
       "      <td>17.0</td>\n",
       "      <td>0</td>\n",
       "      <td>0</td>\n",
       "      <td>AQ/3. 30631</td>\n",
       "      <td>7.7333</td>\n",
       "      <td>NaN</td>\n",
       "      <td>Q</td>\n",
       "    </tr>\n",
       "    <tr>\n",
       "      <th>858</th>\n",
       "      <td>859</td>\n",
       "      <td>1.0</td>\n",
       "      <td>3</td>\n",
       "      <td>Baclini, Mrs. Solomon (Latifa Qurban)</td>\n",
       "      <td>female</td>\n",
       "      <td>24.0</td>\n",
       "      <td>0</td>\n",
       "      <td>3</td>\n",
       "      <td>2666</td>\n",
       "      <td>19.2583</td>\n",
       "      <td>NaN</td>\n",
       "      <td>C</td>\n",
       "    </tr>\n",
       "    <tr>\n",
       "      <th>112</th>\n",
       "      <td>113</td>\n",
       "      <td>0.0</td>\n",
       "      <td>3</td>\n",
       "      <td>Barton, Mr. David John</td>\n",
       "      <td>male</td>\n",
       "      <td>22.0</td>\n",
       "      <td>0</td>\n",
       "      <td>0</td>\n",
       "      <td>324669</td>\n",
       "      <td>8.0500</td>\n",
       "      <td>NaN</td>\n",
       "      <td>S</td>\n",
       "    </tr>\n",
       "    <tr>\n",
       "      <th>770</th>\n",
       "      <td>771</td>\n",
       "      <td>0.0</td>\n",
       "      <td>3</td>\n",
       "      <td>Lievens, Mr. Rene Aime</td>\n",
       "      <td>male</td>\n",
       "      <td>24.0</td>\n",
       "      <td>0</td>\n",
       "      <td>0</td>\n",
       "      <td>345781</td>\n",
       "      <td>9.5000</td>\n",
       "      <td>NaN</td>\n",
       "      <td>S</td>\n",
       "    </tr>\n",
       "    <tr>\n",
       "      <th>94</th>\n",
       "      <td>95</td>\n",
       "      <td>0.0</td>\n",
       "      <td>3</td>\n",
       "      <td>Coxon, Mr. Daniel</td>\n",
       "      <td>male</td>\n",
       "      <td>59.0</td>\n",
       "      <td>0</td>\n",
       "      <td>0</td>\n",
       "      <td>364500</td>\n",
       "      <td>7.2500</td>\n",
       "      <td>NaN</td>\n",
       "      <td>S</td>\n",
       "    </tr>\n",
       "  </tbody>\n",
       "</table>\n",
       "</div>"
      ],
      "text/plain": [
       "     PassengerId  Survived  Pclass                                   Name  \\\n",
       "315         1207       NaN       3                   Hagardon, Miss. Kate   \n",
       "858          859       1.0       3  Baclini, Mrs. Solomon (Latifa Qurban)   \n",
       "112          113       0.0       3                 Barton, Mr. David John   \n",
       "770          771       0.0       3                 Lievens, Mr. Rene Aime   \n",
       "94            95       0.0       3                      Coxon, Mr. Daniel   \n",
       "\n",
       "        Sex   Age  SibSp  Parch       Ticket     Fare Cabin Embarked  \n",
       "315  female  17.0      0      0  AQ/3. 30631   7.7333   NaN        Q  \n",
       "858  female  24.0      0      3         2666  19.2583   NaN        C  \n",
       "112    male  22.0      0      0       324669   8.0500   NaN        S  \n",
       "770    male  24.0      0      0       345781   9.5000   NaN        S  \n",
       "94     male  59.0      0      0       364500   7.2500   NaN        S  "
      ]
     },
     "execution_count": 10,
     "metadata": {},
     "output_type": "execute_result"
    }
   ],
   "source": [
    "df.sample(5)"
   ]
  },
  {
   "cell_type": "code",
   "execution_count": 11,
   "id": "dbe51fa2",
   "metadata": {},
   "outputs": [
    {
     "name": "stdout",
     "output_type": "stream",
     "text": [
      "<class 'pandas.core.frame.DataFrame'>\n",
      "Int64Index: 1309 entries, 0 to 417\n",
      "Data columns (total 12 columns):\n",
      " #   Column       Non-Null Count  Dtype  \n",
      "---  ------       --------------  -----  \n",
      " 0   PassengerId  1309 non-null   int64  \n",
      " 1   Survived     891 non-null    float64\n",
      " 2   Pclass       1309 non-null   int64  \n",
      " 3   Name         1309 non-null   object \n",
      " 4   Sex          1309 non-null   object \n",
      " 5   Age          1046 non-null   float64\n",
      " 6   SibSp        1309 non-null   int64  \n",
      " 7   Parch        1309 non-null   int64  \n",
      " 8   Ticket       1309 non-null   object \n",
      " 9   Fare         1308 non-null   float64\n",
      " 10  Cabin        295 non-null    object \n",
      " 11  Embarked     1307 non-null   object \n",
      "dtypes: float64(3), int64(4), object(5)\n",
      "memory usage: 132.9+ KB\n"
     ]
    }
   ],
   "source": [
    "df.info()"
   ]
  },
  {
   "cell_type": "code",
   "execution_count": 12,
   "id": "3d649ed9",
   "metadata": {},
   "outputs": [
    {
     "data": {
      "text/plain": [
       "PassengerId       0\n",
       "Survived        418\n",
       "Pclass            0\n",
       "Name              0\n",
       "Sex               0\n",
       "Age             263\n",
       "SibSp             0\n",
       "Parch             0\n",
       "Ticket            0\n",
       "Fare              1\n",
       "Cabin          1014\n",
       "Embarked          2\n",
       "dtype: int64"
      ]
     },
     "execution_count": 12,
     "metadata": {},
     "output_type": "execute_result"
    }
   ],
   "source": [
    "df.isnull().sum()"
   ]
  },
  {
   "cell_type": "code",
   "execution_count": 13,
   "id": "d74691df",
   "metadata": {},
   "outputs": [
    {
     "data": {
      "text/plain": [
       "S    914\n",
       "C    270\n",
       "Q    123\n",
       "Name: Embarked, dtype: int64"
      ]
     },
     "execution_count": 13,
     "metadata": {},
     "output_type": "execute_result"
    }
   ],
   "source": [
    "df.Embarked.value_counts() # kaç tane nerden bindiğini gösteriyor"
   ]
  },
  {
   "cell_type": "code",
   "execution_count": 14,
   "id": "cb2ecb73",
   "metadata": {},
   "outputs": [
    {
     "data": {
      "text/plain": [
       "S    0.699311\n",
       "C    0.206580\n",
       "Q    0.094109\n",
       "Name: Embarked, dtype: float64"
      ]
     },
     "execution_count": 14,
     "metadata": {},
     "output_type": "execute_result"
    }
   ],
   "source": [
    "df.Embarked.value_counts(normalize = True) #yüzdelik olarak gösteriyor"
   ]
  },
  {
   "cell_type": "code",
   "execution_count": 15,
   "id": "c4a858a7",
   "metadata": {},
   "outputs": [
    {
     "data": {
      "text/plain": [
       "Mr          757\n",
       "Miss        260\n",
       "Mrs         197\n",
       "Master       61\n",
       "Rev           8\n",
       "Dr            8\n",
       "Col           4\n",
       "Mlle          2\n",
       "Major         2\n",
       "Ms            2\n",
       "Lady          1\n",
       "Sir           1\n",
       "Mme           1\n",
       "Don           1\n",
       "Capt          1\n",
       "Countess      1\n",
       "Jonkheer      1\n",
       "Dona          1\n",
       "Name: Title, dtype: int64"
      ]
     },
     "execution_count": 15,
     "metadata": {},
     "output_type": "execute_result"
    }
   ],
   "source": [
    "# titleları sırala mr miss diye\n",
    "df[\"Title\"] = df[\"Name\"].str.extract(\" ([A-Za-z]+)\\.\")\n",
    "df[\"Title\"].value_counts()"
   ]
  },
  {
   "cell_type": "code",
   "execution_count": 16,
   "id": "b2810fee",
   "metadata": {},
   "outputs": [],
   "source": [
    "#yukarıda ismi yanlış yazılanlar var mesela ms = miss demek o yüzden onları eşitleyeceğiz\n",
    "df[\"Title\"] = df[\"Title\"].replace([\"Ms\",\"Mlle\"],\"Miss\")\n",
    "df[\"Title\"] = df[\"Title\"].replace([\"Mme\",\"Lady\",\"Countess\",\"Dona\"],\"Mrs\")\n",
    "df[\"Title\"] = df[\"Title\"].replace([\"Dr\",\"Major\",\"Col\",\"Sir\",\"Rev\",\"Jonkheer\",\"Capt\",\"Don\"],\"Mr\") #rev papaz"
   ]
  },
  {
   "cell_type": "code",
   "execution_count": 17,
   "id": "a4d9f337",
   "metadata": {},
   "outputs": [
    {
     "data": {
      "text/plain": [
       "Mr        783\n",
       "Miss      264\n",
       "Mrs       201\n",
       "Master     61\n",
       "Name: Title, dtype: int64"
      ]
     },
     "execution_count": 17,
     "metadata": {},
     "output_type": "execute_result"
    }
   ],
   "source": [
    "df.Title.value_counts()"
   ]
  },
  {
   "cell_type": "code",
   "execution_count": 18,
   "id": "395b36a0",
   "metadata": {},
   "outputs": [
    {
     "data": {
      "text/plain": [
       "0      30.0\n",
       "1      35.5\n",
       "2      22.0\n",
       "3      35.5\n",
       "4      30.0\n",
       "       ... \n",
       "413    30.0\n",
       "414    35.5\n",
       "415    30.0\n",
       "416    30.0\n",
       "417     4.0\n",
       "Name: Age, Length: 1309, dtype: float64"
      ]
     },
     "execution_count": 18,
     "metadata": {},
     "output_type": "execute_result"
    }
   ],
   "source": [
    "#groupby\n",
    "df[\"Age\"].fillna(df.groupby(\"Title\")[\"Age\"].transform(\"median\"),inplace=True)\n",
    "df.groupby(\"Title\")[\"Age\"].transform(\"median\")"
   ]
  },
  {
   "cell_type": "code",
   "execution_count": 19,
   "id": "8c0303a1",
   "metadata": {},
   "outputs": [],
   "source": [
    "#median bul doldur\n",
    "df[\"Fare\"].fillna(df[\"Fare\"].mean(),inplace= True)"
   ]
  },
  {
   "cell_type": "code",
   "execution_count": 20,
   "id": "30877a06",
   "metadata": {},
   "outputs": [
    {
     "data": {
      "text/plain": [
       "PassengerId       0\n",
       "Survived        418\n",
       "Pclass            0\n",
       "Name              0\n",
       "Sex               0\n",
       "Age               0\n",
       "SibSp             0\n",
       "Parch             0\n",
       "Ticket            0\n",
       "Fare              0\n",
       "Cabin          1014\n",
       "Embarked          2\n",
       "Title             0\n",
       "dtype: int64"
      ]
     },
     "execution_count": 20,
     "metadata": {},
     "output_type": "execute_result"
    }
   ],
   "source": [
    "df.isnull().sum()"
   ]
  },
  {
   "cell_type": "code",
   "execution_count": 21,
   "id": "9d02bb37",
   "metadata": {},
   "outputs": [],
   "source": [
    "#kabinda çok boş yani verinin %20 sinden az olduğu için siliyoruz\n",
    "del df[\"Cabin\"]"
   ]
  },
  {
   "cell_type": "code",
   "execution_count": 22,
   "id": "b6665aa1",
   "metadata": {},
   "outputs": [],
   "source": [
    "#Family olup olmadığını yapıyoruz fillna ile boşluk doldurcaz ayrıca\n",
    "df[\"Family\"]=df[\"SibSp\"]+df[\"Parch\"]+1"
   ]
  },
  {
   "cell_type": "code",
   "execution_count": 23,
   "id": "cdc81be7",
   "metadata": {},
   "outputs": [
    {
     "data": {
      "text/plain": [
       "<seaborn.axisgrid.FacetGrid at 0x28e57c62e20>"
      ]
     },
     "execution_count": 23,
     "metadata": {},
     "output_type": "execute_result"
    },
    {
     "data": {
      "image/png": "[encoded data removed]",
      "text/plain": [
       "<Figure size 360x360 with 1 Axes>"
      ]
     },
     "metadata": {
      "needs_background": "light"
     },
     "output_type": "display_data"
    }
   ],
   "source": [
    "#embarked larda boş olan yerleri doldurma yap\n",
    "sns.displot(df.Embarked)"
   ]
  },
  {
   "cell_type": "code",
   "execution_count": 24,
   "id": "0063f5ea",
   "metadata": {},
   "outputs": [],
   "source": [
    "#fillna ile en çok binilen yeri dolduruyoruz\n",
    "df[\"Embarked\"] = df[\"Embarked\"].fillna(\"S\")"
   ]
  },
  {
   "cell_type": "code",
   "execution_count": null,
   "id": "b2a741ae",
   "metadata": {},
   "outputs": [],
   "source": []
  },
  {
   "cell_type": "code",
   "execution_count": null,
   "id": "b380ce37",
   "metadata": {},
   "outputs": [],
   "source": []
  },
  {
   "cell_type": "code",
   "execution_count": null,
   "id": "8be0157d",
   "metadata": {},
   "outputs": [],
   "source": []
  },
  {
   "cell_type": "code",
   "execution_count": null,
   "id": "bb1f43d6",
   "metadata": {},
   "outputs": [],
   "source": []
  },
  {
   "cell_type": "code",
   "execution_count": 25,
   "id": "4ed08b3b",
   "metadata": {},
   "outputs": [
    {
     "name": "stdout",
     "output_type": "stream",
     "text": [
      "<class 'pandas.core.frame.DataFrame'>\n",
      "Int64Index: 1309 entries, 0 to 417\n",
      "Data columns (total 13 columns):\n",
      " #   Column       Non-Null Count  Dtype  \n",
      "---  ------       --------------  -----  \n",
      " 0   PassengerId  1309 non-null   int64  \n",
      " 1   Survived     891 non-null    float64\n",
      " 2   Pclass       1309 non-null   int64  \n",
      " 3   Name         1309 non-null   object \n",
      " 4   Sex          1309 non-null   object \n",
      " 5   Age          1309 non-null   float64\n",
      " 6   SibSp        1309 non-null   int64  \n",
      " 7   Parch        1309 non-null   int64  \n",
      " 8   Ticket       1309 non-null   object \n",
      " 9   Fare         1309 non-null   float64\n",
      " 10  Embarked     1309 non-null   object \n",
      " 11  Title        1309 non-null   object \n",
      " 12  Family       1309 non-null   int64  \n",
      "dtypes: float64(3), int64(5), object(5)\n",
      "memory usage: 143.2+ KB\n"
     ]
    }
   ],
   "source": [
    "df.info()"
   ]
  },
  {
   "cell_type": "code",
   "execution_count": 26,
   "id": "41520fee",
   "metadata": {},
   "outputs": [],
   "source": [
    "# pass id ile ticket bi ayrıcalık sağlmadığı için sliliyoruz\n",
    "del df[\"PassengerId\"]"
   ]
  },
  {
   "cell_type": "code",
   "execution_count": 27,
   "id": "a4aa7c43",
   "metadata": {},
   "outputs": [],
   "source": [
    "del df[\"Name\"]"
   ]
  },
  {
   "cell_type": "code",
   "execution_count": 28,
   "id": "2811370e",
   "metadata": {},
   "outputs": [],
   "source": [
    "del df[\"Ticket\"]"
   ]
  },
  {
   "cell_type": "code",
   "execution_count": null,
   "id": "abe4cc34",
   "metadata": {},
   "outputs": [],
   "source": []
  },
  {
   "cell_type": "code",
   "execution_count": 29,
   "id": "f7cfb08f",
   "metadata": {},
   "outputs": [],
   "source": [
    "#dummies varible uygula\n",
    "df=pd.get_dummies(df,drop_first=True)"
   ]
  },
  {
   "cell_type": "code",
   "execution_count": 30,
   "id": "eb98e17e",
   "metadata": {},
   "outputs": [
    {
     "name": "stdout",
     "output_type": "stream",
     "text": [
      "<class 'pandas.core.frame.DataFrame'>\n",
      "Int64Index: 1309 entries, 0 to 417\n",
      "Data columns (total 13 columns):\n",
      " #   Column      Non-Null Count  Dtype  \n",
      "---  ------      --------------  -----  \n",
      " 0   Survived    891 non-null    float64\n",
      " 1   Pclass      1309 non-null   int64  \n",
      " 2   Age         1309 non-null   float64\n",
      " 3   SibSp       1309 non-null   int64  \n",
      " 4   Parch       1309 non-null   int64  \n",
      " 5   Fare        1309 non-null   float64\n",
      " 6   Family      1309 non-null   int64  \n",
      " 7   Sex_male    1309 non-null   uint8  \n",
      " 8   Embarked_Q  1309 non-null   uint8  \n",
      " 9   Embarked_S  1309 non-null   uint8  \n",
      " 10  Title_Miss  1309 non-null   uint8  \n",
      " 11  Title_Mr    1309 non-null   uint8  \n",
      " 12  Title_Mrs   1309 non-null   uint8  \n",
      "dtypes: float64(3), int64(4), uint8(6)\n",
      "memory usage: 89.5 KB\n"
     ]
    }
   ],
   "source": [
    "df.info()"
   ]
  },
  {
   "cell_type": "code",
   "execution_count": 31,
   "id": "f7a14dec",
   "metadata": {},
   "outputs": [
    {
     "data": {
      "text/plain": [
       "(1309, 13)"
      ]
     },
     "execution_count": 31,
     "metadata": {},
     "output_type": "execute_result"
    }
   ],
   "source": [
    "df.shape"
   ]
  },
  {
   "cell_type": "code",
   "execution_count": 32,
   "id": "54f2f540",
   "metadata": {},
   "outputs": [],
   "source": [
    "x, y = df[:891].drop(\"Survived\",axis=1), df[:891][[\"Survived\"]]"
   ]
  },
  {
   "cell_type": "code",
   "execution_count": 33,
   "id": "75b08131",
   "metadata": {},
   "outputs": [
    {
     "data": {
      "text/plain": [
       "(891, 12)"
      ]
     },
     "execution_count": 33,
     "metadata": {},
     "output_type": "execute_result"
    }
   ],
   "source": [
    "x.shape"
   ]
  },
  {
   "cell_type": "code",
   "execution_count": 34,
   "id": "f2a67195",
   "metadata": {},
   "outputs": [
    {
     "data": {
      "text/plain": [
       "(891, 1)"
      ]
     },
     "execution_count": 34,
     "metadata": {},
     "output_type": "execute_result"
    }
   ],
   "source": [
    "y.shape"
   ]
  },
  {
   "cell_type": "code",
   "execution_count": null,
   "id": "37218bee",
   "metadata": {},
   "outputs": [],
   "source": []
  },
  {
   "cell_type": "code",
   "execution_count": 35,
   "id": "d139a5eb",
   "metadata": {},
   "outputs": [],
   "source": [
    "model = Sequential()\n",
    "model.add(Dense(81,activation = \"relu\"))\n",
    "model.add(Dense(40,activation = \"relu\"))\n",
    "model.add(Dense(27,activation = \"relu\"))\n",
    "model.add(Dense(19,activation = \"relu\"))\n",
    "model.add(Dense(5,activation = \"relu\"))\n",
    "model.add(Dense(3,activation = \"relu\"))\n",
    "model.add(Dense(1))\n"
   ]
  },
  {
   "cell_type": "code",
   "execution_count": 36,
   "id": "62731aa8",
   "metadata": {},
   "outputs": [],
   "source": [
    "model.compile(loss='binary_crossentropy',optimizer=\"adam\",metrics=[\"accuracy\"])"
   ]
  },
  {
   "cell_type": "code",
   "execution_count": 37,
   "id": "b37882de",
   "metadata": {
    "scrolled": true
   },
   "outputs": [
    {
     "name": "stdout",
     "output_type": "stream",
     "text": [
      "Epoch 1/150\n",
      "90/90 [==============================] - 1s 2ms/step - loss: 1.1277 - accuracy: 0.6409\n",
      "Epoch 2/150\n",
      "90/90 [==============================] - 0s 2ms/step - loss: 0.7254 - accuracy: 0.6667\n",
      "Epoch 3/150\n",
      "90/90 [==============================] - 0s 2ms/step - loss: 0.7450 - accuracy: 0.6689\n",
      "Epoch 4/150\n",
      "90/90 [==============================] - 0s 3ms/step - loss: 0.7168 - accuracy: 0.6857\n",
      "Epoch 5/150\n",
      "90/90 [==============================] - 0s 4ms/step - loss: 1.1280 - accuracy: 0.6543\n",
      "Epoch 6/150\n",
      "90/90 [==============================] - 0s 2ms/step - loss: 1.1355 - accuracy: 0.6678\n",
      "Epoch 7/150\n",
      "90/90 [==============================] - 0s 2ms/step - loss: 0.7358 - accuracy: 0.6611\n",
      "Epoch 8/150\n",
      "90/90 [==============================] - 0s 2ms/step - loss: 0.6935 - accuracy: 0.6768\n",
      "Epoch 9/150\n",
      "90/90 [==============================] - 0s 2ms/step - loss: 0.7067 - accuracy: 0.6947\n",
      "Epoch 10/150\n",
      "90/90 [==============================] - 0s 2ms/step - loss: 0.7573 - accuracy: 0.7385\n",
      "Epoch 11/150\n",
      "90/90 [==============================] - 0s 2ms/step - loss: 0.7103 - accuracy: 0.7015\n",
      "Epoch 12/150\n",
      "90/90 [==============================] - 0s 2ms/step - loss: 0.5432 - accuracy: 0.7419\n",
      "Epoch 13/150\n",
      "90/90 [==============================] - 0s 2ms/step - loss: 0.7972 - accuracy: 0.7441\n",
      "Epoch 14/150\n",
      "90/90 [==============================] - 0s 1ms/step - loss: 0.8563 - accuracy: 0.7318\n",
      "Epoch 15/150\n",
      "90/90 [==============================] - 0s 3ms/step - loss: 1.3605 - accuracy: 0.6173\n",
      "Epoch 16/150\n",
      "90/90 [==============================] - 0s 3ms/step - loss: 0.6821 - accuracy: 0.7082\n",
      "Epoch 17/150\n",
      "90/90 [==============================] - 0s 3ms/step - loss: 0.5862 - accuracy: 0.6925\n",
      "Epoch 18/150\n",
      "90/90 [==============================] - 0s 4ms/step - loss: 0.6417 - accuracy: 0.6274\n",
      "Epoch 19/150\n",
      "90/90 [==============================] - 0s 5ms/step - loss: 0.6316 - accuracy: 0.6521\n",
      "Epoch 20/150\n",
      "90/90 [==============================] - 0s 2ms/step - loss: 0.5621 - accuracy: 0.6700\n",
      "Epoch 21/150\n",
      "90/90 [==============================] - 0s 2ms/step - loss: 0.5465 - accuracy: 0.7037\n",
      "Epoch 22/150\n",
      "90/90 [==============================] - 0s 2ms/step - loss: 0.5383 - accuracy: 0.7217\n",
      "Epoch 23/150\n",
      "90/90 [==============================] - 0s 2ms/step - loss: 0.5576 - accuracy: 0.7407\n",
      "Epoch 24/150\n",
      "90/90 [==============================] - 0s 2ms/step - loss: 0.5129 - accuracy: 0.7396\n",
      "Epoch 25/150\n",
      "90/90 [==============================] - 0s 2ms/step - loss: 0.5212 - accuracy: 0.7654\n",
      "Epoch 26/150\n",
      "90/90 [==============================] - 0s 2ms/step - loss: 0.5626 - accuracy: 0.7565\n",
      "Epoch 27/150\n",
      "90/90 [==============================] - 0s 2ms/step - loss: 0.5313 - accuracy: 0.7811\n",
      "Epoch 28/150\n",
      "90/90 [==============================] - 0s 2ms/step - loss: 0.6081 - accuracy: 0.7688\n",
      "Epoch 29/150\n",
      "90/90 [==============================] - 0s 2ms/step - loss: 0.5514 - accuracy: 0.7845\n",
      "Epoch 30/150\n",
      "90/90 [==============================] - 0s 2ms/step - loss: 0.6091 - accuracy: 0.7957\n",
      "Epoch 31/150\n",
      "90/90 [==============================] - 0s 2ms/step - loss: 0.6614 - accuracy: 0.7823\n",
      "Epoch 32/150\n",
      "90/90 [==============================] - 0s 3ms/step - loss: 0.4868 - accuracy: 0.8002\n",
      "Epoch 33/150\n",
      "90/90 [==============================] - 0s 2ms/step - loss: 0.5020 - accuracy: 0.7991\n",
      "Epoch 34/150\n",
      "90/90 [==============================] - 0s 3ms/step - loss: 0.4594 - accuracy: 0.8002\n",
      "Epoch 35/150\n",
      "90/90 [==============================] - 0s 3ms/step - loss: 0.6021 - accuracy: 0.7868\n",
      "Epoch 36/150\n",
      "90/90 [==============================] - 0s 2ms/step - loss: 0.6144 - accuracy: 0.7957\n",
      "Epoch 37/150\n",
      "90/90 [==============================] - 0s 2ms/step - loss: 0.5884 - accuracy: 0.8025\n",
      "Epoch 38/150\n",
      "90/90 [==============================] - 0s 2ms/step - loss: 0.5742 - accuracy: 0.7991\n",
      "Epoch 39/150\n",
      "90/90 [==============================] - 0s 2ms/step - loss: 0.5162 - accuracy: 0.7699\n",
      "Epoch 40/150\n",
      "90/90 [==============================] - 0s 3ms/step - loss: 0.5128 - accuracy: 0.7856\n",
      "Epoch 41/150\n",
      "90/90 [==============================] - 0s 2ms/step - loss: 0.4429 - accuracy: 0.8070\n",
      "Epoch 42/150\n",
      "90/90 [==============================] - 0s 2ms/step - loss: 0.4578 - accuracy: 0.8058\n",
      "Epoch 43/150\n",
      "90/90 [==============================] - 0s 3ms/step - loss: 0.4674 - accuracy: 0.7957\n",
      "Epoch 44/150\n",
      "90/90 [==============================] - 0s 2ms/step - loss: 0.4493 - accuracy: 0.8025\n",
      "Epoch 45/150\n",
      "90/90 [==============================] - 0s 3ms/step - loss: 0.9507 - accuracy: 0.6992\n",
      "Epoch 46/150\n",
      "90/90 [==============================] - 0s 2ms/step - loss: 0.5394 - accuracy: 0.7104\n",
      "Epoch 47/150\n",
      "90/90 [==============================] - 0s 2ms/step - loss: 0.5162 - accuracy: 0.7520\n",
      "Epoch 48/150\n",
      "90/90 [==============================] - 0s 2ms/step - loss: 0.6126 - accuracy: 0.7542\n",
      "Epoch 49/150\n",
      "90/90 [==============================] - 0s 2ms/step - loss: 0.4937 - accuracy: 0.7744\n",
      "Epoch 50/150\n",
      "90/90 [==============================] - 0s 2ms/step - loss: 0.4801 - accuracy: 0.7834\n",
      "Epoch 51/150\n",
      "90/90 [==============================] - 0s 2ms/step - loss: 0.4717 - accuracy: 0.8047\n",
      "Epoch 52/150\n",
      "90/90 [==============================] - 0s 2ms/step - loss: 0.4638 - accuracy: 0.8013\n",
      "Epoch 53/150\n",
      "90/90 [==============================] - 0s 2ms/step - loss: 0.4403 - accuracy: 0.8137\n",
      "Epoch 54/150\n",
      "90/90 [==============================] - 0s 2ms/step - loss: 0.4441 - accuracy: 0.8058\n",
      "Epoch 55/150\n",
      "90/90 [==============================] - 0s 2ms/step - loss: 0.4585 - accuracy: 0.8103\n",
      "Epoch 56/150\n",
      "90/90 [==============================] - 0s 2ms/step - loss: 0.4886 - accuracy: 0.7991\n",
      "Epoch 57/150\n",
      "90/90 [==============================] - 0s 3ms/step - loss: 0.4754 - accuracy: 0.8002\n",
      "Epoch 58/150\n",
      "90/90 [==============================] - 0s 5ms/step - loss: 0.4668 - accuracy: 0.8047\n",
      "Epoch 59/150\n",
      "90/90 [==============================] - 0s 3ms/step - loss: 0.4428 - accuracy: 0.8070\n",
      "Epoch 60/150\n",
      "90/90 [==============================] - 0s 2ms/step - loss: 0.4579 - accuracy: 0.8103\n",
      "Epoch 61/150\n",
      "90/90 [==============================] - 0s 2ms/step - loss: 0.4689 - accuracy: 0.8193\n",
      "Epoch 62/150\n",
      "90/90 [==============================] - 0s 2ms/step - loss: 0.6602 - accuracy: 0.7598\n",
      "Epoch 63/150\n",
      "90/90 [==============================] - 0s 2ms/step - loss: 0.4997 - accuracy: 0.7845\n",
      "Epoch 64/150\n",
      "90/90 [==============================] - 0s 2ms/step - loss: 0.4676 - accuracy: 0.8092\n",
      "Epoch 65/150\n",
      "90/90 [==============================] - 0s 2ms/step - loss: 0.4610 - accuracy: 0.8204\n",
      "Epoch 66/150\n",
      "90/90 [==============================] - 0s 2ms/step - loss: 0.4559 - accuracy: 0.8182\n",
      "Epoch 67/150\n",
      "90/90 [==============================] - 0s 2ms/step - loss: 0.6160 - accuracy: 0.7924\n",
      "Epoch 68/150\n",
      "90/90 [==============================] - 0s 2ms/step - loss: 0.6746 - accuracy: 0.7778\n",
      "Epoch 69/150\n",
      "90/90 [==============================] - 0s 2ms/step - loss: 0.5681 - accuracy: 0.7834\n",
      "Epoch 70/150\n",
      "90/90 [==============================] - 0s 2ms/step - loss: 0.4674 - accuracy: 0.8002\n",
      "Epoch 71/150\n",
      "90/90 [==============================] - 0s 2ms/step - loss: 0.4532 - accuracy: 0.8002\n",
      "Epoch 72/150\n",
      "90/90 [==============================] - 0s 2ms/step - loss: 0.4526 - accuracy: 0.8159\n",
      "Epoch 73/150\n",
      "90/90 [==============================] - 0s 2ms/step - loss: 0.4324 - accuracy: 0.8171\n",
      "Epoch 74/150\n",
      "90/90 [==============================] - 0s 2ms/step - loss: 0.4687 - accuracy: 0.8159\n",
      "Epoch 75/150\n",
      "90/90 [==============================] - 0s 2ms/step - loss: 0.4447 - accuracy: 0.8137\n",
      "Epoch 76/150\n",
      "90/90 [==============================] - 0s 2ms/step - loss: 0.4661 - accuracy: 0.8238\n",
      "Epoch 77/150\n",
      "90/90 [==============================] - 0s 3ms/step - loss: 0.4466 - accuracy: 0.8227\n",
      "Epoch 78/150\n",
      "90/90 [==============================] - 0s 2ms/step - loss: 0.5880 - accuracy: 0.6857\n",
      "Epoch 79/150\n",
      "90/90 [==============================] - 0s 1ms/step - loss: 0.5432 - accuracy: 0.7497\n",
      "Epoch 80/150\n",
      "90/90 [==============================] - 0s 2ms/step - loss: 0.4891 - accuracy: 0.7733\n",
      "Epoch 81/150\n",
      "90/90 [==============================] - 0s 2ms/step - loss: 0.4673 - accuracy: 0.8171\n",
      "Epoch 82/150\n",
      "90/90 [==============================] - 0s 2ms/step - loss: 0.4596 - accuracy: 0.8148\n",
      "Epoch 83/150\n"
     ]
    },
    {
     "name": "stdout",
     "output_type": "stream",
     "text": [
      "90/90 [==============================] - 0s 2ms/step - loss: 0.4180 - accuracy: 0.8148\n",
      "Epoch 84/150\n",
      "90/90 [==============================] - 0s 2ms/step - loss: 0.4245 - accuracy: 0.8137\n",
      "Epoch 85/150\n",
      "90/90 [==============================] - 0s 2ms/step - loss: 0.4245 - accuracy: 0.8227\n",
      "Epoch 86/150\n",
      "90/90 [==============================] - 0s 2ms/step - loss: 0.4463 - accuracy: 0.8193\n",
      "Epoch 87/150\n",
      "90/90 [==============================] - 0s 2ms/step - loss: 0.4056 - accuracy: 0.8159\n",
      "Epoch 88/150\n",
      "90/90 [==============================] - 0s 2ms/step - loss: 0.4194 - accuracy: 0.8215\n",
      "Epoch 89/150\n",
      "90/90 [==============================] - 0s 2ms/step - loss: 0.4079 - accuracy: 0.8204\n",
      "Epoch 90/150\n",
      "90/90 [==============================] - 0s 2ms/step - loss: 0.4187 - accuracy: 0.8272\n",
      "Epoch 91/150\n",
      "90/90 [==============================] - 0s 2ms/step - loss: 0.5361 - accuracy: 0.7160\n",
      "Epoch 92/150\n",
      "90/90 [==============================] - 0s 2ms/step - loss: 0.5071 - accuracy: 0.7912\n",
      "Epoch 93/150\n",
      "90/90 [==============================] - 0s 1ms/step - loss: 0.4536 - accuracy: 0.8126\n",
      "Epoch 94/150\n",
      "90/90 [==============================] - 0s 2ms/step - loss: 0.4523 - accuracy: 0.8227\n",
      "Epoch 95/150\n",
      "90/90 [==============================] - 0s 2ms/step - loss: 0.4255 - accuracy: 0.8204\n",
      "Epoch 96/150\n",
      "90/90 [==============================] - 0s 2ms/step - loss: 0.4694 - accuracy: 0.8159\n",
      "Epoch 97/150\n",
      "90/90 [==============================] - 0s 2ms/step - loss: 0.4312 - accuracy: 0.8260\n",
      "Epoch 98/150\n",
      "90/90 [==============================] - 0s 2ms/step - loss: 0.4625 - accuracy: 0.8249\n",
      "Epoch 99/150\n",
      "90/90 [==============================] - 0s 2ms/step - loss: 0.4222 - accuracy: 0.8227\n",
      "Epoch 100/150\n",
      "90/90 [==============================] - 0s 2ms/step - loss: 0.4448 - accuracy: 0.8070\n",
      "Epoch 101/150\n",
      "90/90 [==============================] - 0s 2ms/step - loss: 0.4938 - accuracy: 0.7811\n",
      "Epoch 102/150\n",
      "90/90 [==============================] - 0s 2ms/step - loss: 0.5875 - accuracy: 0.6745\n",
      "Epoch 103/150\n",
      "90/90 [==============================] - 0s 2ms/step - loss: 1.4680 - accuracy: 0.6319\n",
      "Epoch 104/150\n",
      "90/90 [==============================] - 0s 2ms/step - loss: 0.5866 - accuracy: 0.6577\n",
      "Epoch 105/150\n",
      "90/90 [==============================] - 0s 2ms/step - loss: 0.5217 - accuracy: 0.7116\n",
      "Epoch 106/150\n",
      "90/90 [==============================] - 0s 2ms/step - loss: 0.5257 - accuracy: 0.7497\n",
      "Epoch 107/150\n",
      "90/90 [==============================] - 0s 2ms/step - loss: 0.5418 - accuracy: 0.7452\n",
      "Epoch 108/150\n",
      "90/90 [==============================] - 0s 1ms/step - loss: 0.5589 - accuracy: 0.7868\n",
      "Epoch 109/150\n",
      "90/90 [==============================] - 0s 2ms/step - loss: 0.5054 - accuracy: 0.8171\n",
      "Epoch 110/150\n",
      "90/90 [==============================] - 0s 2ms/step - loss: 0.4817 - accuracy: 0.8159\n",
      "Epoch 111/150\n",
      "90/90 [==============================] - 0s 2ms/step - loss: 0.5622 - accuracy: 0.8103\n",
      "Epoch 112/150\n",
      "90/90 [==============================] - 0s 2ms/step - loss: 0.5614 - accuracy: 0.8204\n",
      "Epoch 113/150\n",
      "90/90 [==============================] - 0s 2ms/step - loss: 0.4945 - accuracy: 0.8159\n",
      "Epoch 114/150\n",
      "90/90 [==============================] - 0s 2ms/step - loss: 0.4628 - accuracy: 0.8249\n",
      "Epoch 115/150\n",
      "90/90 [==============================] - 0s 2ms/step - loss: 0.4914 - accuracy: 0.8081\n",
      "Epoch 116/150\n",
      "90/90 [==============================] - 0s 2ms/step - loss: 0.5567 - accuracy: 0.7980\n",
      "Epoch 117/150\n",
      "90/90 [==============================] - 0s 2ms/step - loss: 0.5002 - accuracy: 0.8081\n",
      "Epoch 118/150\n",
      "90/90 [==============================] - 0s 2ms/step - loss: 0.4481 - accuracy: 0.8272\n",
      "Epoch 119/150\n",
      "90/90 [==============================] - 0s 2ms/step - loss: 0.4534 - accuracy: 0.7868\n",
      "Epoch 120/150\n",
      "90/90 [==============================] - 0s 2ms/step - loss: 0.4368 - accuracy: 0.8182\n",
      "Epoch 121/150\n",
      "90/90 [==============================] - 0s 2ms/step - loss: 0.4480 - accuracy: 0.8148\n",
      "Epoch 122/150\n",
      "90/90 [==============================] - 0s 2ms/step - loss: 0.4869 - accuracy: 0.8126\n",
      "Epoch 123/150\n",
      "90/90 [==============================] - 0s 2ms/step - loss: 0.5445 - accuracy: 0.8283\n",
      "Epoch 124/150\n",
      "90/90 [==============================] - 0s 1ms/step - loss: 0.4429 - accuracy: 0.8126\n",
      "Epoch 125/150\n",
      "90/90 [==============================] - 0s 2ms/step - loss: 0.4556 - accuracy: 0.8204\n",
      "Epoch 126/150\n",
      "90/90 [==============================] - 0s 2ms/step - loss: 0.4694 - accuracy: 0.8171\n",
      "Epoch 127/150\n",
      "90/90 [==============================] - 0s 2ms/step - loss: 0.4607 - accuracy: 0.8092\n",
      "Epoch 128/150\n",
      "90/90 [==============================] - 0s 2ms/step - loss: 0.4393 - accuracy: 0.8182\n",
      "Epoch 129/150\n",
      "90/90 [==============================] - 0s 2ms/step - loss: 0.4308 - accuracy: 0.8339\n",
      "Epoch 130/150\n",
      "90/90 [==============================] - 0s 2ms/step - loss: 0.4189 - accuracy: 0.8249\n",
      "Epoch 131/150\n",
      "90/90 [==============================] - 0s 2ms/step - loss: 0.5972 - accuracy: 0.6992\n",
      "Epoch 132/150\n",
      "90/90 [==============================] - 0s 2ms/step - loss: 0.4661 - accuracy: 0.7778\n",
      "Epoch 133/150\n",
      "90/90 [==============================] - 0s 2ms/step - loss: 0.4543 - accuracy: 0.8103\n",
      "Epoch 134/150\n",
      "90/90 [==============================] - 0s 2ms/step - loss: 0.4508 - accuracy: 0.8070\n",
      "Epoch 135/150\n",
      "90/90 [==============================] - 0s 4ms/step - loss: 0.4857 - accuracy: 0.8204\n",
      "Epoch 136/150\n",
      "90/90 [==============================] - 0s 4ms/step - loss: 0.4271 - accuracy: 0.8193\n",
      "Epoch 137/150\n",
      "90/90 [==============================] - 0s 3ms/step - loss: 0.4510 - accuracy: 0.8238\n",
      "Epoch 138/150\n",
      "90/90 [==============================] - 0s 3ms/step - loss: 0.4321 - accuracy: 0.8171\n",
      "Epoch 139/150\n",
      "90/90 [==============================] - 0s 3ms/step - loss: 0.4645 - accuracy: 0.8328\n",
      "Epoch 140/150\n",
      "90/90 [==============================] - 0s 3ms/step - loss: 0.4323 - accuracy: 0.8305\n",
      "Epoch 141/150\n",
      "90/90 [==============================] - 0s 3ms/step - loss: 0.4078 - accuracy: 0.8294\n",
      "Epoch 142/150\n",
      "90/90 [==============================] - 0s 2ms/step - loss: 0.4508 - accuracy: 0.8406\n",
      "Epoch 143/150\n",
      "90/90 [==============================] - 0s 2ms/step - loss: 0.4313 - accuracy: 0.8238\n",
      "Epoch 144/150\n",
      "90/90 [==============================] - 0s 3ms/step - loss: 0.4392 - accuracy: 0.8081\n",
      "Epoch 145/150\n",
      "90/90 [==============================] - 0s 2ms/step - loss: 0.4169 - accuracy: 0.8305\n",
      "Epoch 146/150\n",
      "90/90 [==============================] - 0s 3ms/step - loss: 0.4898 - accuracy: 0.7856\n",
      "Epoch 147/150\n",
      "90/90 [==============================] - 0s 3ms/step - loss: 0.6672 - accuracy: 0.7239\n",
      "Epoch 148/150\n",
      "90/90 [==============================] - 0s 2ms/step - loss: 0.5226 - accuracy: 0.7710\n",
      "Epoch 149/150\n",
      "90/90 [==============================] - 0s 3ms/step - loss: 0.4588 - accuracy: 0.8070\n",
      "Epoch 150/150\n",
      "90/90 [==============================] - 0s 2ms/step - loss: 0.4369 - accuracy: 0.8238\n"
     ]
    }
   ],
   "source": [
    "history = model.fit(x,y,batch_size = 10, epochs = 150, verbose = 1 )"
   ]
  },
  {
   "cell_type": "code",
   "execution_count": 38,
   "id": "201478e0",
   "metadata": {},
   "outputs": [
    {
     "name": "stdout",
     "output_type": "stream",
     "text": [
      "Model: \"sequential\"\n",
      "_________________________________________________________________\n",
      " Layer (type)                Output Shape              Param #   \n",
      "=================================================================\n",
      " dense (Dense)               (None, 81)                1053      \n",
      "                                                                 \n",
      " dense_1 (Dense)             (None, 40)                3280      \n",
      "                                                                 \n",
      " dense_2 (Dense)             (None, 27)                1107      \n",
      "                                                                 \n",
      " dense_3 (Dense)             (None, 19)                532       \n",
      "                                                                 \n",
      " dense_4 (Dense)             (None, 5)                 100       \n",
      "                                                                 \n",
      " dense_5 (Dense)             (None, 3)                 18        \n",
      "                                                                 \n",
      " dense_6 (Dense)             (None, 1)                 4         \n",
      "                                                                 \n",
      "=================================================================\n",
      "Total params: 6,094\n",
      "Trainable params: 6,094\n",
      "Non-trainable params: 0\n",
      "_________________________________________________________________\n"
     ]
    }
   ],
   "source": [
    "model.summary()"
   ]
  },
  {
   "cell_type": "code",
   "execution_count": 39,
   "id": "21e58578",
   "metadata": {},
   "outputs": [
    {
     "name": "stdout",
     "output_type": "stream",
     "text": [
      "28/28 [==============================] - 0s 2ms/step - loss: 0.4108 - accuracy: 0.8137\n"
     ]
    }
   ],
   "source": [
    "scores=model.evaluate(x,y)"
   ]
  },
  {
   "cell_type": "code",
   "execution_count": 40,
   "id": "38ee46e0",
   "metadata": {},
   "outputs": [
    {
     "name": "stdout",
     "output_type": "stream",
     "text": [
      "accuracy : 81.37%\n"
     ]
    }
   ],
   "source": [
    "print(\"%s : %.2f%%\" % (model.metrics_names[1],scores[1]*100))"
   ]
  },
  {
   "cell_type": "code",
   "execution_count": null,
   "id": "566c82b7",
   "metadata": {},
   "outputs": [],
   "source": []
  },
  {
   "cell_type": "code",
   "execution_count": null,
   "id": "7f5308c2",
   "metadata": {},
   "outputs": [],
   "source": []
  }
 ],
 "metadata": {
  "kernelspec": {
   "display_name": "Python 3 (ipykernel)",
   "language": "python",
   "name": "python3"
  },
  "language_info": {
   "codemirror_mode": {
    "name": "ipython",
    "version": 3
   },
   "file_extension": ".py",
   "mimetype": "text/x-python",
   "name": "python",
   "nbconvert_exporter": "python",
   "pygments_lexer": "ipython3",
   "version": "3.9.12"
  }
 },
 "nbformat": 4,
 "nbformat_minor": 5
}
